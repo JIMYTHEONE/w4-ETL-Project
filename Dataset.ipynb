{
 "cells": [
  {
   "cell_type": "code",
   "execution_count": 1,
   "id": "1611f19f",
   "metadata": {},
   "outputs": [],
   "source": [
    "import pandas as pd\n",
    "from selenium.webdriver.chrome.options import Options\n",
    "from webdriver_manager.chrome import ChromeDriverManager\n",
    "\n",
    "from selenium.webdriver.common.by import By \n",
    "\n",
    "import time\n",
    "\n",
    "import pandas as pd\n",
    "\n",
    "import warnings\n",
    "warnings.filterwarnings('ignore')\n",
    "\n",
    "from selenium import webdriver"
   ]
  },
  {
   "cell_type": "code",
   "execution_count": 2,
   "id": "948c87bb",
   "metadata": {},
   "outputs": [],
   "source": [
    "#driver configuration\n",
    "opciones=Options()\n",
    "\n",
    "opciones.add_experimental_option('excludeSwitches', ['enable-automation'])\n",
    "opciones.add_experimental_option('useAutomationExtension', False)\n",
    "#opciones.headless=False    # si True, no aperece la ventana (headless=no visible)\n",
    "opciones.add_argument('--start-maximized')         # comienza maximizado\n",
    "opciones.add_argument('user-data-dir=selenium')    # mantiene las cookies\n",
    "#opciones.add_extension('driver_folder/adblock.crx')       # adblocker\n",
    "opciones.add_argument('--incognito')"
   ]
  },
  {
   "cell_type": "code",
   "execution_count": 3,
   "id": "bd0eccd3",
   "metadata": {},
   "outputs": [],
   "source": [
    "PATH=ChromeDriverManager().install()   # instala el driver\n",
    "\n",
    "driver=webdriver.Chrome(PATH)         # abre una pestaña de chrome\n",
    "\n",
    "driver.get('https://mott.pe/noticias/los-10-estafadores-mas-famosos-de-la-historia/')   # Entra "
   ]
  },
  {
   "cell_type": "code",
   "execution_count": 12,
   "id": "4d00f30c",
   "metadata": {},
   "outputs": [
    {
     "data": {
      "text/plain": [
       "['Carlo Ponzi',\n",
       " 'Steven Jay Russell',\n",
       " 'George C. Parker',\n",
       " 'Bernard Madoff',\n",
       " 'Marc Dreier Stuart',\n",
       " 'Victor Lustig',\n",
       " 'Frank Abagnale',\n",
       " 'Mary Baker',\n",
       " 'Wilhelm Voigt',\n",
       " 'Ferdinand Demara']"
      ]
     },
     "execution_count": 12,
     "metadata": {},
     "output_type": "execute_result"
    }
   ],
   "source": [
    "nombre = [e.text.split(': ')[0] for e in driver.find_elements(By.TAG_NAME, 'h2')][:10]\n",
    "\n",
    "nombre"
   ]
  },
  {
   "cell_type": "code",
   "execution_count": 13,
   "id": "50142750",
   "metadata": {},
   "outputs": [
    {
     "data": {
      "text/plain": [
       "10"
      ]
     },
     "execution_count": 13,
     "metadata": {},
     "output_type": "execute_result"
    }
   ],
   "source": [
    "len(nombre)"
   ]
  },
  {
   "cell_type": "code",
   "execution_count": 11,
   "id": "405375ca",
   "metadata": {},
   "outputs": [
    {
     "data": {
      "text/plain": [
       "['Famoso por la estafa piramidal',\n",
       " 'el famoso estafador más escurridizo',\n",
       " 'el estafador que «vendió» la Estatua de la Libertad',\n",
       " 'el estafador más famoso de Estados Unidos',\n",
       " 'el inversionista estafador',\n",
       " '«el hombre que vendió la Torre Eiffel dos veces»',\n",
       " '«atrápame si puedes»',\n",
       " 'Princesa Caraboo',\n",
       " 'Capitán de Köpenick',\n",
       " '“El gran impostor”']"
      ]
     },
     "execution_count": 11,
     "metadata": {},
     "output_type": "execute_result"
    }
   ],
   "source": [
    "hito = [e.text.split(': ')[-1] for e in driver.find_elements(By.TAG_NAME, 'h2')][:10]\n",
    "\n",
    "hito"
   ]
  },
  {
   "cell_type": "code",
   "execution_count": 14,
   "id": "5519c9db",
   "metadata": {},
   "outputs": [],
   "source": [
    "estafadores = pd.DataFrame(columns=['nombre','hito'])"
   ]
  },
  {
   "cell_type": "code",
   "execution_count": 16,
   "id": "d6070bf6",
   "metadata": {},
   "outputs": [],
   "source": [
    "estafadores.nombre = nombre"
   ]
  },
  {
   "cell_type": "code",
   "execution_count": 18,
   "id": "c48229b4",
   "metadata": {},
   "outputs": [],
   "source": [
    "estafadores.hito = hito"
   ]
  },
  {
   "cell_type": "code",
   "execution_count": 19,
   "id": "6b40eaa7",
   "metadata": {},
   "outputs": [
    {
     "data": {
      "text/html": [
       "<div>\n",
       "<style scoped>\n",
       "    .dataframe tbody tr th:only-of-type {\n",
       "        vertical-align: middle;\n",
       "    }\n",
       "\n",
       "    .dataframe tbody tr th {\n",
       "        vertical-align: top;\n",
       "    }\n",
       "\n",
       "    .dataframe thead th {\n",
       "        text-align: right;\n",
       "    }\n",
       "</style>\n",
       "<table border=\"1\" class=\"dataframe\">\n",
       "  <thead>\n",
       "    <tr style=\"text-align: right;\">\n",
       "      <th></th>\n",
       "      <th>nombre</th>\n",
       "      <th>hito</th>\n",
       "    </tr>\n",
       "  </thead>\n",
       "  <tbody>\n",
       "    <tr>\n",
       "      <th>0</th>\n",
       "      <td>Carlo Ponzi</td>\n",
       "      <td>Famoso por la estafa piramidal</td>\n",
       "    </tr>\n",
       "    <tr>\n",
       "      <th>1</th>\n",
       "      <td>Steven Jay Russell</td>\n",
       "      <td>el famoso estafador más escurridizo</td>\n",
       "    </tr>\n",
       "    <tr>\n",
       "      <th>2</th>\n",
       "      <td>George C. Parker</td>\n",
       "      <td>el estafador que «vendió» la Estatua de la Lib...</td>\n",
       "    </tr>\n",
       "    <tr>\n",
       "      <th>3</th>\n",
       "      <td>Bernard Madoff</td>\n",
       "      <td>el estafador más famoso de Estados Unidos</td>\n",
       "    </tr>\n",
       "    <tr>\n",
       "      <th>4</th>\n",
       "      <td>Marc Dreier Stuart</td>\n",
       "      <td>el inversionista estafador</td>\n",
       "    </tr>\n",
       "    <tr>\n",
       "      <th>5</th>\n",
       "      <td>Victor Lustig</td>\n",
       "      <td>«el hombre que vendió la Torre Eiffel dos veces»</td>\n",
       "    </tr>\n",
       "    <tr>\n",
       "      <th>6</th>\n",
       "      <td>Frank Abagnale</td>\n",
       "      <td>«atrápame si puedes»</td>\n",
       "    </tr>\n",
       "    <tr>\n",
       "      <th>7</th>\n",
       "      <td>Mary Baker</td>\n",
       "      <td>Princesa Caraboo</td>\n",
       "    </tr>\n",
       "    <tr>\n",
       "      <th>8</th>\n",
       "      <td>Wilhelm Voigt</td>\n",
       "      <td>Capitán de Köpenick</td>\n",
       "    </tr>\n",
       "    <tr>\n",
       "      <th>9</th>\n",
       "      <td>Ferdinand Demara</td>\n",
       "      <td>“El gran impostor”</td>\n",
       "    </tr>\n",
       "  </tbody>\n",
       "</table>\n",
       "</div>"
      ],
      "text/plain": [
       "               nombre                                               hito\n",
       "0         Carlo Ponzi                     Famoso por la estafa piramidal\n",
       "1  Steven Jay Russell                el famoso estafador más escurridizo\n",
       "2    George C. Parker  el estafador que «vendió» la Estatua de la Lib...\n",
       "3      Bernard Madoff          el estafador más famoso de Estados Unidos\n",
       "4  Marc Dreier Stuart                         el inversionista estafador\n",
       "5       Victor Lustig   «el hombre que vendió la Torre Eiffel dos veces»\n",
       "6      Frank Abagnale                               «atrápame si puedes»\n",
       "7          Mary Baker                                   Princesa Caraboo\n",
       "8       Wilhelm Voigt                                Capitán de Köpenick\n",
       "9    Ferdinand Demara                                 “El gran impostor”"
      ]
     },
     "execution_count": 19,
     "metadata": {},
     "output_type": "execute_result"
    }
   ],
   "source": [
    "estafadores"
   ]
  },
  {
   "cell_type": "code",
   "execution_count": null,
   "id": "d2d86f57",
   "metadata": {},
   "outputs": [],
   "source": []
  }
 ],
 "metadata": {
  "kernelspec": {
   "display_name": "Python 3 (ipykernel)",
   "language": "python",
   "name": "python3"
  },
  "language_info": {
   "codemirror_mode": {
    "name": "ipython",
    "version": 3
   },
   "file_extension": ".py",
   "mimetype": "text/x-python",
   "name": "python",
   "nbconvert_exporter": "python",
   "pygments_lexer": "ipython3",
   "version": "3.9.12"
  }
 },
 "nbformat": 4,
 "nbformat_minor": 5
}
